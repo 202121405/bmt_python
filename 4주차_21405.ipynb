{
  "nbformat": 4,
  "nbformat_minor": 0,
  "metadata": {
    "colab": {
      "name": "4주차_21405.ipynb",
      "provenance": [],
      "collapsed_sections": [],
      "authorship_tag": "ABX9TyNi106qjSlCbfQB9mOq2irZ",
      "include_colab_link": true
    },
    "kernelspec": {
      "name": "python3",
      "display_name": "Python 3"
    },
    "language_info": {
      "name": "python"
    }
  },
  "cells": [
    {
      "cell_type": "markdown",
      "metadata": {
        "id": "view-in-github",
        "colab_type": "text"
      },
      "source": [
        "<a href=\"https://colab.research.google.com/github/202121405/bmt_python/blob/main/4%EC%A3%BC%EC%B0%A8_21405.ipynb\" target=\"_parent\"><img src=\"https://colab.research.google.com/assets/colab-badge.svg\" alt=\"Open In Colab\"/></a>"
      ]
    },
    {
      "cell_type": "code",
      "metadata": {
        "colab": {
          "base_uri": "https://localhost:8080/"
        },
        "id": "SuzqnJsfNR3A",
        "outputId": "7ff0d6af-ab4c-437a-a92b-e2a9bd5f60fa"
      },
      "source": [
        "print('hello world', end=' *---* ')\n",
        "print('Busan')"
      ],
      "execution_count": 6,
      "outputs": [
        {
          "output_type": "stream",
          "text": [
            "hello world *---* Busan\n"
          ],
          "name": "stdout"
        }
      ]
    },
    {
      "cell_type": "code",
      "metadata": {
        "colab": {
          "base_uri": "https://localhost:8080/"
        },
        "id": "wD_8EdY2PSTI",
        "outputId": "cc2abc7a-dc26-4d88-a423-baf559b6bb31"
      },
      "source": [
        "print('Hello','World','Busan')\n",
        "print('Hello'*3)"
      ],
      "execution_count": 17,
      "outputs": [
        {
          "output_type": "stream",
          "text": [
            "Hello World Busan\n",
            "HelloHelloHello\n"
          ],
          "name": "stdout"
        }
      ]
    },
    {
      "cell_type": "code",
      "metadata": {
        "colab": {
          "base_uri": "https://localhost:8080/"
        },
        "id": "hdbdXyurQXI4",
        "outputId": "96edbbbb-226b-4c83-e663-f79eb8b2b95e"
      },
      "source": [
        "print('Hello\\aPython')"
      ],
      "execution_count": 31,
      "outputs": [
        {
          "output_type": "stream",
          "text": [
            "Hello\u0007Python\n"
          ],
          "name": "stdout"
        }
      ]
    },
    {
      "cell_type": "code",
      "metadata": {
        "colab": {
          "base_uri": "https://localhost:8080/"
        },
        "id": "qd5VU42DRRZw",
        "outputId": "0f299e31-435b-4119-d024-63180acd466d"
      },
      "source": [
        "x = input()"
      ],
      "execution_count": 38,
      "outputs": [
        {
          "output_type": "stream",
          "text": [
            "굿\n"
          ],
          "name": "stdout"
        }
      ]
    },
    {
      "cell_type": "code",
      "metadata": {
        "colab": {
          "base_uri": "https://localhost:8080/",
          "height": 35
        },
        "id": "CO0Wxt8-SA7Q",
        "outputId": "14b0cbe2-bc72-4647-c545-c3c0b10e78eb"
      },
      "source": [
        "x"
      ],
      "execution_count": 39,
      "outputs": [
        {
          "output_type": "execute_result",
          "data": {
            "application/vnd.google.colaboratory.intrinsic+json": {
              "type": "string"
            },
            "text/plain": [
              "'굿'"
            ]
          },
          "metadata": {
            "tags": []
          },
          "execution_count": 39
        }
      ]
    },
    {
      "cell_type": "code",
      "metadata": {
        "colab": {
          "base_uri": "https://localhost:8080/"
        },
        "id": "J-0y10D8SN5A",
        "outputId": "e398b327-c984-46db-fb1f-0b5cae8a438d"
      },
      "source": [
        "x = input('x 입력 : ')\n",
        "y = input('y 입력 : ')"
      ],
      "execution_count": 43,
      "outputs": [
        {
          "output_type": "stream",
          "text": [
            "x 입력 : 10\n",
            "y 입력 : 20\n"
          ],
          "name": "stdout"
        }
      ]
    },
    {
      "cell_type": "code",
      "metadata": {
        "colab": {
          "base_uri": "https://localhost:8080/"
        },
        "id": "w-QdTQO1SiD_",
        "outputId": "0d13a79e-9180-4a10-c487-74c7c6afb7da"
      },
      "source": [
        "print(f'{x} + {y} = {int(x)+int(y)}')"
      ],
      "execution_count": 47,
      "outputs": [
        {
          "output_type": "stream",
          "text": [
            "10 + 20 = 30\n"
          ],
          "name": "stdout"
        }
      ]
    },
    {
      "cell_type": "code",
      "metadata": {
        "colab": {
          "base_uri": "https://localhost:8080/"
        },
        "id": "xU8-CdSTS2Ew",
        "outputId": "48cd21dc-67ec-45a5-bec3-4cea5cf3ec2a"
      },
      "source": [
        "# 두 정수 입력 받아 사칙연산 프로그램\n",
        "\n",
        "#입력부\n",
        "x = int(input('x 정수 입력 :'))\n",
        "y = int(input('y 정수 입력 :'))"
      ],
      "execution_count": 45,
      "outputs": [
        {
          "output_type": "stream",
          "text": [
            "x 정수 입력 :10\n",
            "y 정수 입력 :20\n"
          ],
          "name": "stdout"
        }
      ]
    },
    {
      "cell_type": "code",
      "metadata": {
        "colab": {
          "base_uri": "https://localhost:8080/"
        },
        "id": "MbUjCA1bTrZB",
        "outputId": "a1d1e23e-ccd2-4b68-ee28-bd6bfef9e5ca"
      },
      "source": [
        "print(x, '+', y, '=', (x + y))\n",
        "print(x, '-', y, '=', (x - y))\n",
        "print(x, 'x', y, '=', (x * y))\n",
        "print(x, '/', y, '=', (x / y))"
      ],
      "execution_count": 46,
      "outputs": [
        {
          "output_type": "stream",
          "text": [
            "10 + 20 = 30\n",
            "10 - 20 = -10\n",
            "10 x 20 = 200\n",
            "10 / 20 = 0.5\n"
          ],
          "name": "stdout"
        }
      ]
    },
    {
      "cell_type": "code",
      "metadata": {
        "colab": {
          "base_uri": "https://localhost:8080/"
        },
        "id": "8SC7kzZAT_GB",
        "outputId": "63482613-ee36-42cc-995a-019a4b4c710a"
      },
      "source": [
        "#BMI 지수 구하기\n",
        "\n",
        "#입력부\n",
        "weight = float(input('weight(kg) : '))\n",
        "height = float(input('height(cm) : '))"
      ],
      "execution_count": 48,
      "outputs": [
        {
          "output_type": "stream",
          "text": [
            "weight(kg) : 70\n",
            "height(cm) : 175\n"
          ],
          "name": "stdout"
        }
      ]
    },
    {
      "cell_type": "code",
      "metadata": {
        "id": "uFllFgs8U09O"
      },
      "source": [
        "BMI = weight / ( height/100)**2"
      ],
      "execution_count": 49,
      "outputs": []
    },
    {
      "cell_type": "code",
      "metadata": {
        "colab": {
          "base_uri": "https://localhost:8080/"
        },
        "id": "vU2OYqZDVB--",
        "outputId": "04e418d2-5d6c-4053-85e7-8d5b475ed6ec"
      },
      "source": [
        "#출력\n",
        "print(f'BMI = {BMI:.2f}')"
      ],
      "execution_count": 51,
      "outputs": [
        {
          "output_type": "stream",
          "text": [
            "BMI = 22.86\n"
          ],
          "name": "stdout"
        }
      ]
    },
    {
      "cell_type": "code",
      "metadata": {
        "colab": {
          "base_uri": "https://localhost:8080/"
        },
        "id": "6EToXxN7VJqu",
        "outputId": "cc11e991-e8dc-42a8-ee08-09b3c7ccc8f7"
      },
      "source": [
        "#입력부\n",
        "weight = float(input('weight(kg) : '))\n",
        "height = float(input('height(cm) : '))\n",
        "\n",
        "#제어부\n",
        "BMI = weight / ( height/100)**2\n",
        "\n",
        "#출력부\n",
        "print(f'BMI = {BMI:.2f}')\n",
        "\n",
        "if 30 >BMI > 20 :\n",
        "   print('넌 살좀 빼야돼!!!😢 ')\n",
        "elif BMI >= 30 :\n",
        "   print('돼지')\n",
        "elif BMI > 0 and BMI <= 20 :\n",
        "  print('넌 괜찮아')   "
      ],
      "execution_count": 62,
      "outputs": [
        {
          "output_type": "stream",
          "text": [
            "weight(kg) : 898\n",
            "height(cm) : 910\n",
            "BMI = 10.84\n",
            "넌 괜찮아\n"
          ],
          "name": "stdout"
        }
      ]
    },
    {
      "cell_type": "code",
      "metadata": {
        "colab": {
          "base_uri": "https://localhost:8080/"
        },
        "id": "9I7BzsTQXD2V",
        "outputId": "f102bb8e-dff0-443c-b9f3-30177afd6976"
      },
      "source": [
        "# {x} + {y} = {int(x)+int(y)}\n",
        "print(x,'+',y,'=',int(x)+int(y))"
      ],
      "execution_count": 64,
      "outputs": [
        {
          "output_type": "stream",
          "text": [
            "10 + 20 = 30\n"
          ],
          "name": "stdout"
        }
      ]
    },
    {
      "cell_type": "code",
      "metadata": {
        "colab": {
          "base_uri": "https://localhost:8080/"
        },
        "id": "Z_Sv3djoXhFu",
        "outputId": "f5edacf0-832b-433d-c7a9-096f39acd50e"
      },
      "source": [
        "print(f'{BMI} + {y} = {int(BMI)+int(y)}')"
      ],
      "execution_count": 67,
      "outputs": [
        {
          "output_type": "stream",
          "text": [
            "10.844100953991065 + 20 = 30\n"
          ],
          "name": "stdout"
        }
      ]
    },
    {
      "cell_type": "code",
      "metadata": {
        "id": "YGOOGlV0YBHu"
      },
      "source": [
        ""
      ],
      "execution_count": null,
      "outputs": []
    }
  ]
}